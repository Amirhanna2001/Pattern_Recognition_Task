{
  "cells": [
    {
      "cell_type": "markdown",
      "id": "7fd4e74a",
      "metadata": {
        "id": "7fd4e74a"
      },
      "source": [
        "<div style=\"text-align: left; background-color:white; font-family: Trebuchet MS; color:black; padding: 12px; line-height:1.25;border-radius:1px; margin-bottom: 0em; text-align: center; font-size: 58px;border-style: solid;border-color: black solid;\"> IMDB Sentiment Analysis </div>"
      ]
    },
    {
      "cell_type": "markdown",
      "id": "0863a724",
      "metadata": {
        "id": "0863a724"
      },
      "source": [
        "   <a id='top'></a>\n",
        "<div class=\"list-group\" id=\"list-tab\" role=\"tablist\"></div>\n",
        "\n",
        "## <div style=\"background-color:#B21010;font-family:sans-serif;color:#FFF9ED;font-size:150%;text-align:center;border-radius:9px 9px; padding: 15px; border-style: solid; border-color: black\">TABLE OF CONTENTS</div>   \n",
        "    \n",
        "* [1. Import Necessaries](#1)\n",
        "    \n",
        "* [2. EDA](#2)\n",
        "\n",
        "    * [2.1. Load dataset](#2.1)    \n",
        "    * [2.2. Check the shape of the data](#2.2)\n",
        "    * [2.3. Check the Maximum value of a word index in the datasetss](#2.3)\n",
        "    * [2.4. Check the Maximum length  of review in dataset](#2.4)\n",
        "    * [2.5. See some samples of the reviews](#2.5)\n",
        "    * [2.6.  Plot the distrbution of the reviews labels (Postive or Negative)](#2.6)\n",
        "    \n",
        "* [3. Vectorization](#3)\n",
        "    \n",
        "* [4. Split the data into train, valid and test](#4)\n",
        "    \n",
        "* [5. Build the CNN model architecture](#5)\n",
        "\n",
        "* [6. Define Early Stop, Compile and Train the model](#6)\n",
        "\n",
        "* [7. Evaluate the model](#7)\n",
        "\n",
        "* [8. Plot acc and Loss curve](#8)\n",
        "\n",
        "* [9. Plot Confussion Matrix](#9)\n",
        "\n",
        "* [10. Classification report](#10)\n",
        "       \n",
        " \n"
      ]
    },
    {
      "cell_type": "markdown",
      "id": "e1403246",
      "metadata": {
        "id": "e1403246"
      },
      "source": [
        "<a id=\"1\"></a>\n",
        "## <b>1 <span style='color:#B21010'>||</span> Import Nescessaries</b>"
      ]
    },
    {
      "cell_type": "code",
      "execution_count": 1,
      "id": "7a9b35f5",
      "metadata": {
        "id": "7a9b35f5"
      },
      "outputs": [],
      "source": [
        "import os\n",
        "from operator import itemgetter    \n",
        "import numpy as np\n",
        "import pandas as pd\n",
        "import matplotlib.pyplot as plt\n",
        "import seaborn as sns\n",
        "import plotly.graph_objects as go\n",
        "from plotly.subplots import make_subplots\n",
        "from plotly.offline import iplot\n",
        "\n",
        "from sklearn.metrics import confusion_matrix, classification_report\n",
        "\n",
        "import tensorflow as tf\n",
        "from tensorflow.keras import models, regularizers, layers, optimizers, losses, metrics\n",
        "from tensorflow.keras.models import Sequential\n",
        "from tensorflow.keras.layers import Dense\n",
        "from keras.utils import np_utils\n",
        "from tensorflow.keras.utils import to_categorical\n",
        "from tensorflow.keras.datasets import imdb\n",
        "from tensorflow.keras.callbacks import EarlyStopping, ModelCheckpoint\n",
        "\n",
        "import warnings\n",
        "warnings.filterwarnings('ignore')\n",
        "\n",
        "\n",
        "colors = ['#494BD3', '#E28AE2', '#F1F481', '#79DB80', '#DF5F5F',\n",
        "              '#69DADE', '#C2E37D', '#E26580', '#D39F49', '#B96FE3']"
      ]
    },
    {
      "cell_type": "markdown",
      "id": "2202dab9",
      "metadata": {
        "id": "2202dab9"
      },
      "source": [
        "<a id=\"2\"></a>\n",
        "## <b>2 <span style='color:#B21010'>||</span> EDA</b>"
      ]
    },
    {
      "cell_type": "markdown",
      "id": "bed90cb3",
      "metadata": {
        "id": "bed90cb3"
      },
      "source": [
        "<a id=\"2.1\"></a>\n",
        "### <b>2.1 <span style='color:#B21010'>||</span> Load dataset</b>"
      ]
    },
    {
      "cell_type": "code",
      "execution_count": 2,
      "id": "e1131d40",
      "metadata": {
        "colab": {
          "base_uri": "https://localhost:8080/"
        },
        "id": "e1131d40",
        "outputId": "afd6656d-18ad-4fb0-e852-f4988fcc1433"
      },
      "outputs": [
        {
          "output_type": "stream",
          "name": "stdout",
          "text": [
            "Downloading data from https://storage.googleapis.com/tensorflow/tf-keras-datasets/imdb.npz\n",
            "17464789/17464789 [==============================] - 0s 0us/step\n"
          ]
        }
      ],
      "source": [
        "(train_data, train_labels), (test_data, test_labels) = imdb.load_data(num_words=10000)"
      ]
    },
    {
      "cell_type": "markdown",
      "id": "80bb2303",
      "metadata": {
        "id": "80bb2303"
      },
      "source": [
        "<a id=\"2.2\"></a>\n",
        "### <b>2.2 <span style='color:#B21010'>||</span> Check the shape of the data</b>"
      ]
    },
    {
      "cell_type": "code",
      "execution_count": 3,
      "id": "7f4c9ba1",
      "metadata": {
        "id": "7f4c9ba1"
      },
      "outputs": [],
      "source": [
        "def shape_of_ds(df, ds_name='df'):\n",
        "    print(f\"Shape of {ds_name} dataset is {df.shape}\")\n",
        "    \n",
        "def sep(num=100):\n",
        "    print(\"_\"*num)\n",
        "    print()"
      ]
    },
    {
      "cell_type": "code",
      "execution_count": 4,
      "id": "5ac5d867",
      "metadata": {
        "colab": {
          "base_uri": "https://localhost:8080/"
        },
        "id": "5ac5d867",
        "outputId": "9bc593cf-5930-48c7-ee17-c3561a13bead"
      },
      "outputs": [
        {
          "output_type": "stream",
          "name": "stdout",
          "text": [
            "Shape of training dataset is (25000,)\n",
            "____________________________________________________________________________________________________\n",
            "\n",
            "Shape of testing dataset is (25000,)\n"
          ]
        }
      ],
      "source": [
        "shape_of_ds(train_data, \"training\")\n",
        "sep()\n",
        "shape_of_ds(test_data, \"testing\")"
      ]
    },
    {
      "cell_type": "markdown",
      "id": "4c911147",
      "metadata": {
        "id": "4c911147"
      },
      "source": [
        "<a id=\"2.3\"></a>\n",
        "### <b>2.3 <span style='color:#B21010'>||</span> Check the Maximum value of a word index in the datasets</b>"
      ]
    },
    {
      "cell_type": "code",
      "execution_count": 5,
      "id": "9a8c1bdb",
      "metadata": {
        "id": "9a8c1bdb"
      },
      "outputs": [],
      "source": [
        "def max_word_ind(df, ds_name='df'):\n",
        "    mx_word_ind = max([max(sequence) for sequence in df])\n",
        "    print(f\"Maximum value of a word index in {ds_name} dataset: {mx_word_ind}\")"
      ]
    },
    {
      "cell_type": "code",
      "execution_count": 6,
      "id": "a5f7dbe9",
      "metadata": {
        "colab": {
          "base_uri": "https://localhost:8080/"
        },
        "id": "a5f7dbe9",
        "outputId": "fd11e49d-a64e-4dde-9cee-316a03b21e9e"
      },
      "outputs": [
        {
          "output_type": "stream",
          "name": "stdout",
          "text": [
            "Maximum value of a word index in trainig dataset: 9999\n",
            "____________________________________________________________________________________________________\n",
            "\n",
            "Maximum value of a word index in testing dataset: 9999\n"
          ]
        }
      ],
      "source": [
        "max_word_ind(train_data, \"trainig\")\n",
        "sep()\n",
        "max_word_ind(test_data, \"testing\")"
      ]
    },
    {
      "cell_type": "markdown",
      "id": "ac1144ca",
      "metadata": {
        "id": "ac1144ca"
      },
      "source": [
        "**The max value of a word index in both training and testing datasets is 9999 and thats reasonable because when we load the data we defined the num of words to be 10000**"
      ]
    },
    {
      "cell_type": "markdown",
      "id": "4dfaf48f",
      "metadata": {
        "id": "4dfaf48f"
      },
      "source": [
        "<a id=\"2.4\"></a>\n",
        "### <b>2.4 <span style='color:#B21010'>||</span> Check the Maximum length  of review in dataset</b>"
      ]
    },
    {
      "cell_type": "code",
      "execution_count": 7,
      "id": "09e4b8c5",
      "metadata": {
        "id": "09e4b8c5"
      },
      "outputs": [],
      "source": [
        "def max_review(df, ds_name='df'):\n",
        "    mx_word_ind = max([len(sequence) for sequence in df])\n",
        "    print(f\"Maximum length of a review in {ds_name} dataset: {mx_word_ind}\")"
      ]
    },
    {
      "cell_type": "code",
      "execution_count": 8,
      "id": "e3fa23f0",
      "metadata": {
        "colab": {
          "base_uri": "https://localhost:8080/"
        },
        "id": "e3fa23f0",
        "outputId": "721301a4-9577-426d-96ff-54a483dec397"
      },
      "outputs": [
        {
          "output_type": "stream",
          "name": "stdout",
          "text": [
            "Maximum length of a review in trainig dataset: 2494\n",
            "____________________________________________________________________________________________________\n",
            "\n",
            "Maximum length of a review in testing dataset: 2315\n"
          ]
        }
      ],
      "source": [
        "max_review(train_data, \"trainig\")\n",
        "sep()\n",
        "max_review(test_data, \"testing\")"
      ]
    },
    {
      "cell_type": "markdown",
      "id": "e802870b",
      "metadata": {
        "id": "e802870b"
      },
      "source": [
        "<a id=\"2.5\"></a>\n",
        "### <b>2.5 <span style='color:#B21010'>||</span>see some samples of the reviews</b>"
      ]
    },
    {
      "cell_type": "code",
      "execution_count": 9,
      "id": "2e5f2028",
      "metadata": {
        "colab": {
          "base_uri": "https://localhost:8080/"
        },
        "id": "2e5f2028",
        "outputId": "042e8284-dcec-4acb-f5a1-6a618cf4b305"
      },
      "outputs": [
        {
          "output_type": "stream",
          "name": "stdout",
          "text": [
            "Downloading data from https://storage.googleapis.com/tensorflow/tf-keras-datasets/imdb_word_index.json\n",
            "1641221/1641221 [==============================] - 0s 0us/step\n"
          ]
        }
      ],
      "source": [
        "word_index = imdb.get_word_index()"
      ]
    },
    {
      "cell_type": "markdown",
      "id": "129939cf",
      "metadata": {
        "id": "129939cf"
      },
      "source": [
        "**Word index is a dict in which each number is encoded to its corresponding word**"
      ]
    },
    {
      "cell_type": "markdown",
      "id": "12246e0c",
      "metadata": {
        "id": "12246e0c"
      },
      "source": [
        "**Lets print the word index for more explaination**"
      ]
    },
    {
      "cell_type": "code",
      "execution_count": 11,
      "id": "e02130cd",
      "metadata": {
        "colab": {
          "base_uri": "https://localhost:8080/"
        },
        "id": "e02130cd",
        "outputId": "acab83ce-56ed-4a77-98e4-cfce07ee6405"
      },
      "outputs": [
        {
          "output_type": "stream",
          "name": "stdout",
          "text": [
            "the number 34701 is the encoding of fawn\n",
            "the number 52006 is the encoding of tsukino\n",
            "the number 52007 is the encoding of nunnery\n",
            "the number 16816 is the encoding of sonja\n",
            "the number 63951 is the encoding of vani\n",
            "the number 1408 is the encoding of woods\n",
            "the number 16115 is the encoding of spiders\n",
            "the number 2345 is the encoding of hanging\n",
            "the number 2289 is the encoding of woody\n",
            "the number 52008 is the encoding of trawling\n"
          ]
        }
      ],
      "source": [
        "n = 10\n",
        "\n",
        "for word in word_index:\n",
        "    n-=1\n",
        "    print(f\"the number {word_index[word]} is the encoding of {word}\")\n",
        "    if not n:\n",
        "        break"
      ]
    },
    {
      "cell_type": "code",
      "execution_count": 12,
      "id": "4e2f5385",
      "metadata": {
        "colab": {
          "base_uri": "https://localhost:8080/"
        },
        "id": "4e2f5385",
        "outputId": "72785133-8a84-46fc-fa50-4ffd650099d7"
      },
      "outputs": [
        {
          "output_type": "execute_result",
          "data": {
            "text/plain": [
              "88584"
            ]
          },
          "metadata": {},
          "execution_count": 12
        }
      ],
      "source": [
        "len(word_index)"
      ]
    },
    {
      "cell_type": "markdown",
      "id": "f3e6a900",
      "metadata": {
        "id": "f3e6a900"
      },
      "source": [
        "**So here I print the first 10 encoded words for ex: number 1408 is the encoding of \"woods\" word and so on and so forth for the rest of 88584 words**"
      ]
    },
    {
      "cell_type": "code",
      "execution_count": 13,
      "id": "57e0223e",
      "metadata": {
        "id": "57e0223e"
      },
      "outputs": [],
      "source": [
        "def decoded_review(rev, word_index):\n",
        "    sentence = \"\"\n",
        "    \n",
        "    for num in rev:\n",
        "        \n",
        "        key_list = list(word_index.keys())\n",
        "        val_list = list(word_index.values())\n",
        "        word = val_list.index(num)\n",
        "        \n",
        "        sentence = sentence + key_list[word] + ' '\n",
        "    \n",
        "    print(sentence)"
      ]
    },
    {
      "cell_type": "markdown",
      "id": "cb0ce1fc",
      "metadata": {
        "id": "cb0ce1fc"
      },
      "source": [
        "**This is a function to show the actual decoded review by passing the encoded review and the word index to it, so lets see some sample reviews**"
      ]
    },
    {
      "cell_type": "code",
      "execution_count": 14,
      "id": "1cd4c0f2",
      "metadata": {
        "colab": {
          "base_uri": "https://localhost:8080/"
        },
        "id": "1cd4c0f2",
        "outputId": "176a11fb-db46-461f-8be1-3c6c2c313a53"
      },
      "outputs": [
        {
          "output_type": "stream",
          "name": "stdout",
          "text": [
            "the as you with out themselves powerful lets loves their becomes reaching had journalist of lot from anyone to have after out atmosphere never more room and it so heart shows to years of every never going and help moments or of every chest visual movie except her was several of enough more with is now current film as you of mine potentially unfortunately of you than him that with out themselves her get for was camp of you movie sometimes movie that with scary but and to story wonderful that in seeing in character to of 70s musicians with heart had shadows they of here that with her serious to have does when from why what have critics they is you that isn't one will very to as itself with other and in of seen over landed for anyone of and br show's to whether from than out themselves history he name half some br of and odd was two most of mean for 1 any an boat she he should is thought frog but of script you not while history he heart to real at barrel but when from one bit then have two of script their with her nobody most that with wasn't to with armed acting watch an for with heartfelt film want an \n",
            "None\n"
          ]
        }
      ],
      "source": [
        "print(decoded_review(train_data[0], word_index))"
      ]
    },
    {
      "cell_type": "code",
      "execution_count": 15,
      "id": "d7c313bb",
      "metadata": {
        "scrolled": true,
        "colab": {
          "base_uri": "https://localhost:8080/"
        },
        "id": "d7c313bb",
        "outputId": "2df8c0ba-8e12-415e-813d-b7917aeffd43"
      },
      "outputs": [
        {
          "output_type": "stream",
          "name": "stdout",
          "text": [
            "the thought solid thought senator do making to is spot nomination assumed while he of jack in where picked as getting on was did hands fact characters to always life thrillers not as me can't in at are br of sure your way of little it strongly random to view of love it so principles of guy it used producer of where it of here icon film of outside to don't all unique some like of direction it if out her imagination below keep of queen he diverse to makes this stretch and of solid it thought begins br senator and budget worthwhile though ok and awaiting for ever better were and diverse for budget look kicked any to of making it out and follows for effects show to show cast this family us scenes more it severe making senator to and finds tv tend to of emerged these thing wants but and an beckinsale cult as it is video do you david see scenery it in few those are of ship for with of wild to one is very work dark they don't do dvd with those them \n",
            "None\n"
          ]
        }
      ],
      "source": [
        "print(decoded_review(train_data[1], word_index))"
      ]
    },
    {
      "cell_type": "markdown",
      "id": "03c92b52",
      "metadata": {
        "id": "03c92b52"
      },
      "source": [
        "**Keep printing whatever u want :)**"
      ]
    },
    {
      "cell_type": "markdown",
      "id": "8617e054",
      "metadata": {
        "id": "8617e054"
      },
      "source": [
        "<a id=\"2.6\"></a>\n",
        "### <b>2.6 <span style='color:#B21010'>||</span> Plot the distrbution of the reviews labels (Postive or Negative)</b>"
      ]
    },
    {
      "cell_type": "code",
      "execution_count": 16,
      "id": "e096f140",
      "metadata": {
        "id": "e096f140"
      },
      "outputs": [],
      "source": [
        "labels_df = pd.DataFrame(columns=['Training_labels', 'Testing_labels'])\n",
        "labels_df['Training_labels'] = train_labels\n",
        "labels_df['Training_labels'].replace([0,1], ['postive', 'negative'], inplace=True)\n",
        "\n",
        "labels_df['Testing_labels'] = test_labels\n",
        "labels_df['Testing_labels'].replace([0,1], ['postive', 'negative'], inplace=True)"
      ]
    },
    {
      "cell_type": "code",
      "execution_count": 17,
      "id": "f217bdd7",
      "metadata": {
        "colab": {
          "base_uri": "https://localhost:8080/",
          "height": 206
        },
        "id": "f217bdd7",
        "outputId": "652fe491-da97-459b-bac0-855b75ecf947"
      },
      "outputs": [
        {
          "output_type": "execute_result",
          "data": {
            "text/plain": [
              "  Training_labels Testing_labels\n",
              "0        negative        postive\n",
              "1         postive       negative\n",
              "2         postive       negative\n",
              "3        negative        postive\n",
              "4         postive       negative"
            ],
            "text/html": [
              "\n",
              "  <div id=\"df-3e6ae17f-0723-44a3-92fe-8daf2135a02a\">\n",
              "    <div class=\"colab-df-container\">\n",
              "      <div>\n",
              "<style scoped>\n",
              "    .dataframe tbody tr th:only-of-type {\n",
              "        vertical-align: middle;\n",
              "    }\n",
              "\n",
              "    .dataframe tbody tr th {\n",
              "        vertical-align: top;\n",
              "    }\n",
              "\n",
              "    .dataframe thead th {\n",
              "        text-align: right;\n",
              "    }\n",
              "</style>\n",
              "<table border=\"1\" class=\"dataframe\">\n",
              "  <thead>\n",
              "    <tr style=\"text-align: right;\">\n",
              "      <th></th>\n",
              "      <th>Training_labels</th>\n",
              "      <th>Testing_labels</th>\n",
              "    </tr>\n",
              "  </thead>\n",
              "  <tbody>\n",
              "    <tr>\n",
              "      <th>0</th>\n",
              "      <td>negative</td>\n",
              "      <td>postive</td>\n",
              "    </tr>\n",
              "    <tr>\n",
              "      <th>1</th>\n",
              "      <td>postive</td>\n",
              "      <td>negative</td>\n",
              "    </tr>\n",
              "    <tr>\n",
              "      <th>2</th>\n",
              "      <td>postive</td>\n",
              "      <td>negative</td>\n",
              "    </tr>\n",
              "    <tr>\n",
              "      <th>3</th>\n",
              "      <td>negative</td>\n",
              "      <td>postive</td>\n",
              "    </tr>\n",
              "    <tr>\n",
              "      <th>4</th>\n",
              "      <td>postive</td>\n",
              "      <td>negative</td>\n",
              "    </tr>\n",
              "  </tbody>\n",
              "</table>\n",
              "</div>\n",
              "      <button class=\"colab-df-convert\" onclick=\"convertToInteractive('df-3e6ae17f-0723-44a3-92fe-8daf2135a02a')\"\n",
              "              title=\"Convert this dataframe to an interactive table.\"\n",
              "              style=\"display:none;\">\n",
              "        \n",
              "  <svg xmlns=\"http://www.w3.org/2000/svg\" height=\"24px\"viewBox=\"0 0 24 24\"\n",
              "       width=\"24px\">\n",
              "    <path d=\"M0 0h24v24H0V0z\" fill=\"none\"/>\n",
              "    <path d=\"M18.56 5.44l.94 2.06.94-2.06 2.06-.94-2.06-.94-.94-2.06-.94 2.06-2.06.94zm-11 1L8.5 8.5l.94-2.06 2.06-.94-2.06-.94L8.5 2.5l-.94 2.06-2.06.94zm10 10l.94 2.06.94-2.06 2.06-.94-2.06-.94-.94-2.06-.94 2.06-2.06.94z\"/><path d=\"M17.41 7.96l-1.37-1.37c-.4-.4-.92-.59-1.43-.59-.52 0-1.04.2-1.43.59L10.3 9.45l-7.72 7.72c-.78.78-.78 2.05 0 2.83L4 21.41c.39.39.9.59 1.41.59.51 0 1.02-.2 1.41-.59l7.78-7.78 2.81-2.81c.8-.78.8-2.07 0-2.86zM5.41 20L4 18.59l7.72-7.72 1.47 1.35L5.41 20z\"/>\n",
              "  </svg>\n",
              "      </button>\n",
              "      \n",
              "  <style>\n",
              "    .colab-df-container {\n",
              "      display:flex;\n",
              "      flex-wrap:wrap;\n",
              "      gap: 12px;\n",
              "    }\n",
              "\n",
              "    .colab-df-convert {\n",
              "      background-color: #E8F0FE;\n",
              "      border: none;\n",
              "      border-radius: 50%;\n",
              "      cursor: pointer;\n",
              "      display: none;\n",
              "      fill: #1967D2;\n",
              "      height: 32px;\n",
              "      padding: 0 0 0 0;\n",
              "      width: 32px;\n",
              "    }\n",
              "\n",
              "    .colab-df-convert:hover {\n",
              "      background-color: #E2EBFA;\n",
              "      box-shadow: 0px 1px 2px rgba(60, 64, 67, 0.3), 0px 1px 3px 1px rgba(60, 64, 67, 0.15);\n",
              "      fill: #174EA6;\n",
              "    }\n",
              "\n",
              "    [theme=dark] .colab-df-convert {\n",
              "      background-color: #3B4455;\n",
              "      fill: #D2E3FC;\n",
              "    }\n",
              "\n",
              "    [theme=dark] .colab-df-convert:hover {\n",
              "      background-color: #434B5C;\n",
              "      box-shadow: 0px 1px 3px 1px rgba(0, 0, 0, 0.15);\n",
              "      filter: drop-shadow(0px 1px 2px rgba(0, 0, 0, 0.3));\n",
              "      fill: #FFFFFF;\n",
              "    }\n",
              "  </style>\n",
              "\n",
              "      <script>\n",
              "        const buttonEl =\n",
              "          document.querySelector('#df-3e6ae17f-0723-44a3-92fe-8daf2135a02a button.colab-df-convert');\n",
              "        buttonEl.style.display =\n",
              "          google.colab.kernel.accessAllowed ? 'block' : 'none';\n",
              "\n",
              "        async function convertToInteractive(key) {\n",
              "          const element = document.querySelector('#df-3e6ae17f-0723-44a3-92fe-8daf2135a02a');\n",
              "          const dataTable =\n",
              "            await google.colab.kernel.invokeFunction('convertToInteractive',\n",
              "                                                     [key], {});\n",
              "          if (!dataTable) return;\n",
              "\n",
              "          const docLinkHtml = 'Like what you see? Visit the ' +\n",
              "            '<a target=\"_blank\" href=https://colab.research.google.com/notebooks/data_table.ipynb>data table notebook</a>'\n",
              "            + ' to learn more about interactive tables.';\n",
              "          element.innerHTML = '';\n",
              "          dataTable['output_type'] = 'display_data';\n",
              "          await google.colab.output.renderOutput(dataTable, element);\n",
              "          const docLink = document.createElement('div');\n",
              "          docLink.innerHTML = docLinkHtml;\n",
              "          element.appendChild(docLink);\n",
              "        }\n",
              "      </script>\n",
              "    </div>\n",
              "  </div>\n",
              "  "
            ]
          },
          "metadata": {},
          "execution_count": 17
        }
      ],
      "source": [
        "labels_df.head()"
      ]
    },
    {
      "cell_type": "code",
      "execution_count": 18,
      "id": "10342a7d",
      "metadata": {
        "id": "10342a7d"
      },
      "outputs": [],
      "source": [
        "def cat_summary_with_graph(dataframe, col_name):\n",
        "    fig = make_subplots(rows=1, cols=2,\n",
        "                        subplot_titles=('Countplot', 'Percentages'),\n",
        "                        specs=[[{\"type\": \"xy\"}, {'type': 'domain'}]])\n",
        "\n",
        "    fig.add_trace(go.Bar(y=dataframe[col_name].value_counts().values.tolist(),\n",
        "                         x=[str(i) for i in dataframe[col_name].value_counts().index],\n",
        "                         text=dataframe[col_name].value_counts().values.tolist(),\n",
        "                         textfont=dict(size=15),\n",
        "                         name=col_name,\n",
        "                         textposition='auto',\n",
        "                         showlegend=False,\n",
        "                         marker=dict(color=colors,\n",
        "                                     line=dict(color='#DBE6EC',\n",
        "                                               width=1))),\n",
        "                  row=1, col=1)\n",
        "\n",
        "    fig.add_trace(go.Pie(labels=dataframe[col_name].value_counts().keys(),\n",
        "                         values=dataframe[col_name].value_counts().values,\n",
        "                         textfont=dict(size=20),\n",
        "                         textposition='auto',\n",
        "                         showlegend=False,\n",
        "                         name=col_name,\n",
        "                         marker=dict(colors=colors)),\n",
        "                  row=1, col=2)\n",
        "\n",
        "    fig.update_layout(title={'text': col_name,\n",
        "                             'y': 0.9,\n",
        "                             'x': 0.5,\n",
        "                             'xanchor': 'center',\n",
        "                             'yanchor': 'top'},\n",
        "                      template='plotly_white')\n",
        "\n",
        "    iplot(fig)"
      ]
    },
    {
      "cell_type": "code",
      "execution_count": 19,
      "id": "739f1598",
      "metadata": {
        "scrolled": false,
        "colab": {
          "base_uri": "https://localhost:8080/",
          "height": 1000
        },
        "id": "739f1598",
        "outputId": "2735e5c0-4a7e-40e6-e85a-70e3f7832a40"
      },
      "outputs": [
        {
          "output_type": "display_data",
          "data": {
            "text/html": [
              "<html>\n",
              "<head><meta charset=\"utf-8\" /></head>\n",
              "<body>\n",
              "    <div>            <script src=\"https://cdnjs.cloudflare.com/ajax/libs/mathjax/2.7.5/MathJax.js?config=TeX-AMS-MML_SVG\"></script><script type=\"text/javascript\">if (window.MathJax && window.MathJax.Hub && window.MathJax.Hub.Config) {window.MathJax.Hub.Config({SVG: {font: \"STIX-Web\"}});}</script>                <script type=\"text/javascript\">window.PlotlyConfig = {MathJaxConfig: 'local'};</script>\n",
              "        <script src=\"https://cdn.plot.ly/plotly-2.18.2.min.js\"></script>                <div id=\"bbc7c56e-e1ef-4c54-89f4-9f251334dae6\" class=\"plotly-graph-div\" style=\"height:525px; width:100%;\"></div>            <script type=\"text/javascript\">                                    window.PLOTLYENV=window.PLOTLYENV || {};                                    if (document.getElementById(\"bbc7c56e-e1ef-4c54-89f4-9f251334dae6\")) {                    Plotly.newPlot(                        \"bbc7c56e-e1ef-4c54-89f4-9f251334dae6\",                        [{\"marker\":{\"color\":[\"#494BD3\",\"#E28AE2\",\"#F1F481\",\"#79DB80\",\"#DF5F5F\",\"#69DADE\",\"#C2E37D\",\"#E26580\",\"#D39F49\",\"#B96FE3\"],\"line\":{\"color\":\"#DBE6EC\",\"width\":1}},\"name\":\"Training_labels\",\"showlegend\":false,\"text\":[\"12500\",\"12500\"],\"textfont\":{\"size\":15},\"textposition\":\"auto\",\"x\":[\"negative\",\"postive\"],\"xaxis\":\"x\",\"y\":[12500,12500],\"yaxis\":\"y\",\"type\":\"bar\"},{\"domain\":{\"x\":[0.55,1.0],\"y\":[0.0,1.0]},\"labels\":[\"negative\",\"postive\"],\"marker\":{\"colors\":[\"#494BD3\",\"#E28AE2\",\"#F1F481\",\"#79DB80\",\"#DF5F5F\",\"#69DADE\",\"#C2E37D\",\"#E26580\",\"#D39F49\",\"#B96FE3\"]},\"name\":\"Training_labels\",\"showlegend\":false,\"textfont\":{\"size\":20},\"textposition\":\"auto\",\"values\":[12500,12500],\"type\":\"pie\"}],                        {\"annotations\":[{\"font\":{\"size\":16},\"showarrow\":false,\"text\":\"Countplot\",\"x\":0.225,\"xanchor\":\"center\",\"xref\":\"paper\",\"y\":1.0,\"yanchor\":\"bottom\",\"yref\":\"paper\"},{\"font\":{\"size\":16},\"showarrow\":false,\"text\":\"Percentages\",\"x\":0.775,\"xanchor\":\"center\",\"xref\":\"paper\",\"y\":1.0,\"yanchor\":\"bottom\",\"yref\":\"paper\"}],\"template\":{\"data\":{\"barpolar\":[{\"marker\":{\"line\":{\"color\":\"white\",\"width\":0.5},\"pattern\":{\"fillmode\":\"overlay\",\"size\":10,\"solidity\":0.2}},\"type\":\"barpolar\"}],\"bar\":[{\"error_x\":{\"color\":\"#2a3f5f\"},\"error_y\":{\"color\":\"#2a3f5f\"},\"marker\":{\"line\":{\"color\":\"white\",\"width\":0.5},\"pattern\":{\"fillmode\":\"overlay\",\"size\":10,\"solidity\":0.2}},\"type\":\"bar\"}],\"carpet\":[{\"aaxis\":{\"endlinecolor\":\"#2a3f5f\",\"gridcolor\":\"#C8D4E3\",\"linecolor\":\"#C8D4E3\",\"minorgridcolor\":\"#C8D4E3\",\"startlinecolor\":\"#2a3f5f\"},\"baxis\":{\"endlinecolor\":\"#2a3f5f\",\"gridcolor\":\"#C8D4E3\",\"linecolor\":\"#C8D4E3\",\"minorgridcolor\":\"#C8D4E3\",\"startlinecolor\":\"#2a3f5f\"},\"type\":\"carpet\"}],\"choropleth\":[{\"colorbar\":{\"outlinewidth\":0,\"ticks\":\"\"},\"type\":\"choropleth\"}],\"contourcarpet\":[{\"colorbar\":{\"outlinewidth\":0,\"ticks\":\"\"},\"type\":\"contourcarpet\"}],\"contour\":[{\"colorbar\":{\"outlinewidth\":0,\"ticks\":\"\"},\"colorscale\":[[0.0,\"#0d0887\"],[0.1111111111111111,\"#46039f\"],[0.2222222222222222,\"#7201a8\"],[0.3333333333333333,\"#9c179e\"],[0.4444444444444444,\"#bd3786\"],[0.5555555555555556,\"#d8576b\"],[0.6666666666666666,\"#ed7953\"],[0.7777777777777778,\"#fb9f3a\"],[0.8888888888888888,\"#fdca26\"],[1.0,\"#f0f921\"]],\"type\":\"contour\"}],\"heatmapgl\":[{\"colorbar\":{\"outlinewidth\":0,\"ticks\":\"\"},\"colorscale\":[[0.0,\"#0d0887\"],[0.1111111111111111,\"#46039f\"],[0.2222222222222222,\"#7201a8\"],[0.3333333333333333,\"#9c179e\"],[0.4444444444444444,\"#bd3786\"],[0.5555555555555556,\"#d8576b\"],[0.6666666666666666,\"#ed7953\"],[0.7777777777777778,\"#fb9f3a\"],[0.8888888888888888,\"#fdca26\"],[1.0,\"#f0f921\"]],\"type\":\"heatmapgl\"}],\"heatmap\":[{\"colorbar\":{\"outlinewidth\":0,\"ticks\":\"\"},\"colorscale\":[[0.0,\"#0d0887\"],[0.1111111111111111,\"#46039f\"],[0.2222222222222222,\"#7201a8\"],[0.3333333333333333,\"#9c179e\"],[0.4444444444444444,\"#bd3786\"],[0.5555555555555556,\"#d8576b\"],[0.6666666666666666,\"#ed7953\"],[0.7777777777777778,\"#fb9f3a\"],[0.8888888888888888,\"#fdca26\"],[1.0,\"#f0f921\"]],\"type\":\"heatmap\"}],\"histogram2dcontour\":[{\"colorbar\":{\"outlinewidth\":0,\"ticks\":\"\"},\"colorscale\":[[0.0,\"#0d0887\"],[0.1111111111111111,\"#46039f\"],[0.2222222222222222,\"#7201a8\"],[0.3333333333333333,\"#9c179e\"],[0.4444444444444444,\"#bd3786\"],[0.5555555555555556,\"#d8576b\"],[0.6666666666666666,\"#ed7953\"],[0.7777777777777778,\"#fb9f3a\"],[0.8888888888888888,\"#fdca26\"],[1.0,\"#f0f921\"]],\"type\":\"histogram2dcontour\"}],\"histogram2d\":[{\"colorbar\":{\"outlinewidth\":0,\"ticks\":\"\"},\"colorscale\":[[0.0,\"#0d0887\"],[0.1111111111111111,\"#46039f\"],[0.2222222222222222,\"#7201a8\"],[0.3333333333333333,\"#9c179e\"],[0.4444444444444444,\"#bd3786\"],[0.5555555555555556,\"#d8576b\"],[0.6666666666666666,\"#ed7953\"],[0.7777777777777778,\"#fb9f3a\"],[0.8888888888888888,\"#fdca26\"],[1.0,\"#f0f921\"]],\"type\":\"histogram2d\"}],\"histogram\":[{\"marker\":{\"pattern\":{\"fillmode\":\"overlay\",\"size\":10,\"solidity\":0.2}},\"type\":\"histogram\"}],\"mesh3d\":[{\"colorbar\":{\"outlinewidth\":0,\"ticks\":\"\"},\"type\":\"mesh3d\"}],\"parcoords\":[{\"line\":{\"colorbar\":{\"outlinewidth\":0,\"ticks\":\"\"}},\"type\":\"parcoords\"}],\"pie\":[{\"automargin\":true,\"type\":\"pie\"}],\"scatter3d\":[{\"line\":{\"colorbar\":{\"outlinewidth\":0,\"ticks\":\"\"}},\"marker\":{\"colorbar\":{\"outlinewidth\":0,\"ticks\":\"\"}},\"type\":\"scatter3d\"}],\"scattercarpet\":[{\"marker\":{\"colorbar\":{\"outlinewidth\":0,\"ticks\":\"\"}},\"type\":\"scattercarpet\"}],\"scattergeo\":[{\"marker\":{\"colorbar\":{\"outlinewidth\":0,\"ticks\":\"\"}},\"type\":\"scattergeo\"}],\"scattergl\":[{\"marker\":{\"colorbar\":{\"outlinewidth\":0,\"ticks\":\"\"}},\"type\":\"scattergl\"}],\"scattermapbox\":[{\"marker\":{\"colorbar\":{\"outlinewidth\":0,\"ticks\":\"\"}},\"type\":\"scattermapbox\"}],\"scatterpolargl\":[{\"marker\":{\"colorbar\":{\"outlinewidth\":0,\"ticks\":\"\"}},\"type\":\"scatterpolargl\"}],\"scatterpolar\":[{\"marker\":{\"colorbar\":{\"outlinewidth\":0,\"ticks\":\"\"}},\"type\":\"scatterpolar\"}],\"scatter\":[{\"fillpattern\":{\"fillmode\":\"overlay\",\"size\":10,\"solidity\":0.2},\"type\":\"scatter\"}],\"scatterternary\":[{\"marker\":{\"colorbar\":{\"outlinewidth\":0,\"ticks\":\"\"}},\"type\":\"scatterternary\"}],\"surface\":[{\"colorbar\":{\"outlinewidth\":0,\"ticks\":\"\"},\"colorscale\":[[0.0,\"#0d0887\"],[0.1111111111111111,\"#46039f\"],[0.2222222222222222,\"#7201a8\"],[0.3333333333333333,\"#9c179e\"],[0.4444444444444444,\"#bd3786\"],[0.5555555555555556,\"#d8576b\"],[0.6666666666666666,\"#ed7953\"],[0.7777777777777778,\"#fb9f3a\"],[0.8888888888888888,\"#fdca26\"],[1.0,\"#f0f921\"]],\"type\":\"surface\"}],\"table\":[{\"cells\":{\"fill\":{\"color\":\"#EBF0F8\"},\"line\":{\"color\":\"white\"}},\"header\":{\"fill\":{\"color\":\"#C8D4E3\"},\"line\":{\"color\":\"white\"}},\"type\":\"table\"}]},\"layout\":{\"annotationdefaults\":{\"arrowcolor\":\"#2a3f5f\",\"arrowhead\":0,\"arrowwidth\":1},\"autotypenumbers\":\"strict\",\"coloraxis\":{\"colorbar\":{\"outlinewidth\":0,\"ticks\":\"\"}},\"colorscale\":{\"diverging\":[[0,\"#8e0152\"],[0.1,\"#c51b7d\"],[0.2,\"#de77ae\"],[0.3,\"#f1b6da\"],[0.4,\"#fde0ef\"],[0.5,\"#f7f7f7\"],[0.6,\"#e6f5d0\"],[0.7,\"#b8e186\"],[0.8,\"#7fbc41\"],[0.9,\"#4d9221\"],[1,\"#276419\"]],\"sequential\":[[0.0,\"#0d0887\"],[0.1111111111111111,\"#46039f\"],[0.2222222222222222,\"#7201a8\"],[0.3333333333333333,\"#9c179e\"],[0.4444444444444444,\"#bd3786\"],[0.5555555555555556,\"#d8576b\"],[0.6666666666666666,\"#ed7953\"],[0.7777777777777778,\"#fb9f3a\"],[0.8888888888888888,\"#fdca26\"],[1.0,\"#f0f921\"]],\"sequentialminus\":[[0.0,\"#0d0887\"],[0.1111111111111111,\"#46039f\"],[0.2222222222222222,\"#7201a8\"],[0.3333333333333333,\"#9c179e\"],[0.4444444444444444,\"#bd3786\"],[0.5555555555555556,\"#d8576b\"],[0.6666666666666666,\"#ed7953\"],[0.7777777777777778,\"#fb9f3a\"],[0.8888888888888888,\"#fdca26\"],[1.0,\"#f0f921\"]]},\"colorway\":[\"#636efa\",\"#EF553B\",\"#00cc96\",\"#ab63fa\",\"#FFA15A\",\"#19d3f3\",\"#FF6692\",\"#B6E880\",\"#FF97FF\",\"#FECB52\"],\"font\":{\"color\":\"#2a3f5f\"},\"geo\":{\"bgcolor\":\"white\",\"lakecolor\":\"white\",\"landcolor\":\"white\",\"showlakes\":true,\"showland\":true,\"subunitcolor\":\"#C8D4E3\"},\"hoverlabel\":{\"align\":\"left\"},\"hovermode\":\"closest\",\"mapbox\":{\"style\":\"light\"},\"paper_bgcolor\":\"white\",\"plot_bgcolor\":\"white\",\"polar\":{\"angularaxis\":{\"gridcolor\":\"#EBF0F8\",\"linecolor\":\"#EBF0F8\",\"ticks\":\"\"},\"bgcolor\":\"white\",\"radialaxis\":{\"gridcolor\":\"#EBF0F8\",\"linecolor\":\"#EBF0F8\",\"ticks\":\"\"}},\"scene\":{\"xaxis\":{\"backgroundcolor\":\"white\",\"gridcolor\":\"#DFE8F3\",\"gridwidth\":2,\"linecolor\":\"#EBF0F8\",\"showbackground\":true,\"ticks\":\"\",\"zerolinecolor\":\"#EBF0F8\"},\"yaxis\":{\"backgroundcolor\":\"white\",\"gridcolor\":\"#DFE8F3\",\"gridwidth\":2,\"linecolor\":\"#EBF0F8\",\"showbackground\":true,\"ticks\":\"\",\"zerolinecolor\":\"#EBF0F8\"},\"zaxis\":{\"backgroundcolor\":\"white\",\"gridcolor\":\"#DFE8F3\",\"gridwidth\":2,\"linecolor\":\"#EBF0F8\",\"showbackground\":true,\"ticks\":\"\",\"zerolinecolor\":\"#EBF0F8\"}},\"shapedefaults\":{\"line\":{\"color\":\"#2a3f5f\"}},\"ternary\":{\"aaxis\":{\"gridcolor\":\"#DFE8F3\",\"linecolor\":\"#A2B1C6\",\"ticks\":\"\"},\"baxis\":{\"gridcolor\":\"#DFE8F3\",\"linecolor\":\"#A2B1C6\",\"ticks\":\"\"},\"bgcolor\":\"white\",\"caxis\":{\"gridcolor\":\"#DFE8F3\",\"linecolor\":\"#A2B1C6\",\"ticks\":\"\"}},\"title\":{\"x\":0.05},\"xaxis\":{\"automargin\":true,\"gridcolor\":\"#EBF0F8\",\"linecolor\":\"#EBF0F8\",\"ticks\":\"\",\"title\":{\"standoff\":15},\"zerolinecolor\":\"#EBF0F8\",\"zerolinewidth\":2},\"yaxis\":{\"automargin\":true,\"gridcolor\":\"#EBF0F8\",\"linecolor\":\"#EBF0F8\",\"ticks\":\"\",\"title\":{\"standoff\":15},\"zerolinecolor\":\"#EBF0F8\",\"zerolinewidth\":2}}},\"title\":{\"text\":\"Training_labels\",\"x\":0.5,\"xanchor\":\"center\",\"y\":0.9,\"yanchor\":\"top\"},\"xaxis\":{\"anchor\":\"y\",\"domain\":[0.0,0.45]},\"yaxis\":{\"anchor\":\"x\",\"domain\":[0.0,1.0]}},                        {\"responsive\": true}                    ).then(function(){\n",
              "                            \n",
              "var gd = document.getElementById('bbc7c56e-e1ef-4c54-89f4-9f251334dae6');\n",
              "var x = new MutationObserver(function (mutations, observer) {{\n",
              "        var display = window.getComputedStyle(gd).display;\n",
              "        if (!display || display === 'none') {{\n",
              "            console.log([gd, 'removed!']);\n",
              "            Plotly.purge(gd);\n",
              "            observer.disconnect();\n",
              "        }}\n",
              "}});\n",
              "\n",
              "// Listen for the removal of the full notebook cells\n",
              "var notebookContainer = gd.closest('#notebook-container');\n",
              "if (notebookContainer) {{\n",
              "    x.observe(notebookContainer, {childList: true});\n",
              "}}\n",
              "\n",
              "// Listen for the clearing of the current output cell\n",
              "var outputEl = gd.closest('.output');\n",
              "if (outputEl) {{\n",
              "    x.observe(outputEl, {childList: true});\n",
              "}}\n",
              "\n",
              "                        })                };                            </script>        </div>\n",
              "</body>\n",
              "</html>"
            ]
          },
          "metadata": {}
        },
        {
          "output_type": "display_data",
          "data": {
            "text/html": [
              "<html>\n",
              "<head><meta charset=\"utf-8\" /></head>\n",
              "<body>\n",
              "    <div>            <script src=\"https://cdnjs.cloudflare.com/ajax/libs/mathjax/2.7.5/MathJax.js?config=TeX-AMS-MML_SVG\"></script><script type=\"text/javascript\">if (window.MathJax && window.MathJax.Hub && window.MathJax.Hub.Config) {window.MathJax.Hub.Config({SVG: {font: \"STIX-Web\"}});}</script>                <script type=\"text/javascript\">window.PlotlyConfig = {MathJaxConfig: 'local'};</script>\n",
              "        <script src=\"https://cdn.plot.ly/plotly-2.18.2.min.js\"></script>                <div id=\"e2ac5ca5-bd7a-42de-8cf7-348adf1303d6\" class=\"plotly-graph-div\" style=\"height:525px; width:100%;\"></div>            <script type=\"text/javascript\">                                    window.PLOTLYENV=window.PLOTLYENV || {};                                    if (document.getElementById(\"e2ac5ca5-bd7a-42de-8cf7-348adf1303d6\")) {                    Plotly.newPlot(                        \"e2ac5ca5-bd7a-42de-8cf7-348adf1303d6\",                        [{\"marker\":{\"color\":[\"#494BD3\",\"#E28AE2\",\"#F1F481\",\"#79DB80\",\"#DF5F5F\",\"#69DADE\",\"#C2E37D\",\"#E26580\",\"#D39F49\",\"#B96FE3\"],\"line\":{\"color\":\"#DBE6EC\",\"width\":1}},\"name\":\"Testing_labels\",\"showlegend\":false,\"text\":[\"12500\",\"12500\"],\"textfont\":{\"size\":15},\"textposition\":\"auto\",\"x\":[\"postive\",\"negative\"],\"xaxis\":\"x\",\"y\":[12500,12500],\"yaxis\":\"y\",\"type\":\"bar\"},{\"domain\":{\"x\":[0.55,1.0],\"y\":[0.0,1.0]},\"labels\":[\"postive\",\"negative\"],\"marker\":{\"colors\":[\"#494BD3\",\"#E28AE2\",\"#F1F481\",\"#79DB80\",\"#DF5F5F\",\"#69DADE\",\"#C2E37D\",\"#E26580\",\"#D39F49\",\"#B96FE3\"]},\"name\":\"Testing_labels\",\"showlegend\":false,\"textfont\":{\"size\":20},\"textposition\":\"auto\",\"values\":[12500,12500],\"type\":\"pie\"}],                        {\"annotations\":[{\"font\":{\"size\":16},\"showarrow\":false,\"text\":\"Countplot\",\"x\":0.225,\"xanchor\":\"center\",\"xref\":\"paper\",\"y\":1.0,\"yanchor\":\"bottom\",\"yref\":\"paper\"},{\"font\":{\"size\":16},\"showarrow\":false,\"text\":\"Percentages\",\"x\":0.775,\"xanchor\":\"center\",\"xref\":\"paper\",\"y\":1.0,\"yanchor\":\"bottom\",\"yref\":\"paper\"}],\"template\":{\"data\":{\"barpolar\":[{\"marker\":{\"line\":{\"color\":\"white\",\"width\":0.5},\"pattern\":{\"fillmode\":\"overlay\",\"size\":10,\"solidity\":0.2}},\"type\":\"barpolar\"}],\"bar\":[{\"error_x\":{\"color\":\"#2a3f5f\"},\"error_y\":{\"color\":\"#2a3f5f\"},\"marker\":{\"line\":{\"color\":\"white\",\"width\":0.5},\"pattern\":{\"fillmode\":\"overlay\",\"size\":10,\"solidity\":0.2}},\"type\":\"bar\"}],\"carpet\":[{\"aaxis\":{\"endlinecolor\":\"#2a3f5f\",\"gridcolor\":\"#C8D4E3\",\"linecolor\":\"#C8D4E3\",\"minorgridcolor\":\"#C8D4E3\",\"startlinecolor\":\"#2a3f5f\"},\"baxis\":{\"endlinecolor\":\"#2a3f5f\",\"gridcolor\":\"#C8D4E3\",\"linecolor\":\"#C8D4E3\",\"minorgridcolor\":\"#C8D4E3\",\"startlinecolor\":\"#2a3f5f\"},\"type\":\"carpet\"}],\"choropleth\":[{\"colorbar\":{\"outlinewidth\":0,\"ticks\":\"\"},\"type\":\"choropleth\"}],\"contourcarpet\":[{\"colorbar\":{\"outlinewidth\":0,\"ticks\":\"\"},\"type\":\"contourcarpet\"}],\"contour\":[{\"colorbar\":{\"outlinewidth\":0,\"ticks\":\"\"},\"colorscale\":[[0.0,\"#0d0887\"],[0.1111111111111111,\"#46039f\"],[0.2222222222222222,\"#7201a8\"],[0.3333333333333333,\"#9c179e\"],[0.4444444444444444,\"#bd3786\"],[0.5555555555555556,\"#d8576b\"],[0.6666666666666666,\"#ed7953\"],[0.7777777777777778,\"#fb9f3a\"],[0.8888888888888888,\"#fdca26\"],[1.0,\"#f0f921\"]],\"type\":\"contour\"}],\"heatmapgl\":[{\"colorbar\":{\"outlinewidth\":0,\"ticks\":\"\"},\"colorscale\":[[0.0,\"#0d0887\"],[0.1111111111111111,\"#46039f\"],[0.2222222222222222,\"#7201a8\"],[0.3333333333333333,\"#9c179e\"],[0.4444444444444444,\"#bd3786\"],[0.5555555555555556,\"#d8576b\"],[0.6666666666666666,\"#ed7953\"],[0.7777777777777778,\"#fb9f3a\"],[0.8888888888888888,\"#fdca26\"],[1.0,\"#f0f921\"]],\"type\":\"heatmapgl\"}],\"heatmap\":[{\"colorbar\":{\"outlinewidth\":0,\"ticks\":\"\"},\"colorscale\":[[0.0,\"#0d0887\"],[0.1111111111111111,\"#46039f\"],[0.2222222222222222,\"#7201a8\"],[0.3333333333333333,\"#9c179e\"],[0.4444444444444444,\"#bd3786\"],[0.5555555555555556,\"#d8576b\"],[0.6666666666666666,\"#ed7953\"],[0.7777777777777778,\"#fb9f3a\"],[0.8888888888888888,\"#fdca26\"],[1.0,\"#f0f921\"]],\"type\":\"heatmap\"}],\"histogram2dcontour\":[{\"colorbar\":{\"outlinewidth\":0,\"ticks\":\"\"},\"colorscale\":[[0.0,\"#0d0887\"],[0.1111111111111111,\"#46039f\"],[0.2222222222222222,\"#7201a8\"],[0.3333333333333333,\"#9c179e\"],[0.4444444444444444,\"#bd3786\"],[0.5555555555555556,\"#d8576b\"],[0.6666666666666666,\"#ed7953\"],[0.7777777777777778,\"#fb9f3a\"],[0.8888888888888888,\"#fdca26\"],[1.0,\"#f0f921\"]],\"type\":\"histogram2dcontour\"}],\"histogram2d\":[{\"colorbar\":{\"outlinewidth\":0,\"ticks\":\"\"},\"colorscale\":[[0.0,\"#0d0887\"],[0.1111111111111111,\"#46039f\"],[0.2222222222222222,\"#7201a8\"],[0.3333333333333333,\"#9c179e\"],[0.4444444444444444,\"#bd3786\"],[0.5555555555555556,\"#d8576b\"],[0.6666666666666666,\"#ed7953\"],[0.7777777777777778,\"#fb9f3a\"],[0.8888888888888888,\"#fdca26\"],[1.0,\"#f0f921\"]],\"type\":\"histogram2d\"}],\"histogram\":[{\"marker\":{\"pattern\":{\"fillmode\":\"overlay\",\"size\":10,\"solidity\":0.2}},\"type\":\"histogram\"}],\"mesh3d\":[{\"colorbar\":{\"outlinewidth\":0,\"ticks\":\"\"},\"type\":\"mesh3d\"}],\"parcoords\":[{\"line\":{\"colorbar\":{\"outlinewidth\":0,\"ticks\":\"\"}},\"type\":\"parcoords\"}],\"pie\":[{\"automargin\":true,\"type\":\"pie\"}],\"scatter3d\":[{\"line\":{\"colorbar\":{\"outlinewidth\":0,\"ticks\":\"\"}},\"marker\":{\"colorbar\":{\"outlinewidth\":0,\"ticks\":\"\"}},\"type\":\"scatter3d\"}],\"scattercarpet\":[{\"marker\":{\"colorbar\":{\"outlinewidth\":0,\"ticks\":\"\"}},\"type\":\"scattercarpet\"}],\"scattergeo\":[{\"marker\":{\"colorbar\":{\"outlinewidth\":0,\"ticks\":\"\"}},\"type\":\"scattergeo\"}],\"scattergl\":[{\"marker\":{\"colorbar\":{\"outlinewidth\":0,\"ticks\":\"\"}},\"type\":\"scattergl\"}],\"scattermapbox\":[{\"marker\":{\"colorbar\":{\"outlinewidth\":0,\"ticks\":\"\"}},\"type\":\"scattermapbox\"}],\"scatterpolargl\":[{\"marker\":{\"colorbar\":{\"outlinewidth\":0,\"ticks\":\"\"}},\"type\":\"scatterpolargl\"}],\"scatterpolar\":[{\"marker\":{\"colorbar\":{\"outlinewidth\":0,\"ticks\":\"\"}},\"type\":\"scatterpolar\"}],\"scatter\":[{\"fillpattern\":{\"fillmode\":\"overlay\",\"size\":10,\"solidity\":0.2},\"type\":\"scatter\"}],\"scatterternary\":[{\"marker\":{\"colorbar\":{\"outlinewidth\":0,\"ticks\":\"\"}},\"type\":\"scatterternary\"}],\"surface\":[{\"colorbar\":{\"outlinewidth\":0,\"ticks\":\"\"},\"colorscale\":[[0.0,\"#0d0887\"],[0.1111111111111111,\"#46039f\"],[0.2222222222222222,\"#7201a8\"],[0.3333333333333333,\"#9c179e\"],[0.4444444444444444,\"#bd3786\"],[0.5555555555555556,\"#d8576b\"],[0.6666666666666666,\"#ed7953\"],[0.7777777777777778,\"#fb9f3a\"],[0.8888888888888888,\"#fdca26\"],[1.0,\"#f0f921\"]],\"type\":\"surface\"}],\"table\":[{\"cells\":{\"fill\":{\"color\":\"#EBF0F8\"},\"line\":{\"color\":\"white\"}},\"header\":{\"fill\":{\"color\":\"#C8D4E3\"},\"line\":{\"color\":\"white\"}},\"type\":\"table\"}]},\"layout\":{\"annotationdefaults\":{\"arrowcolor\":\"#2a3f5f\",\"arrowhead\":0,\"arrowwidth\":1},\"autotypenumbers\":\"strict\",\"coloraxis\":{\"colorbar\":{\"outlinewidth\":0,\"ticks\":\"\"}},\"colorscale\":{\"diverging\":[[0,\"#8e0152\"],[0.1,\"#c51b7d\"],[0.2,\"#de77ae\"],[0.3,\"#f1b6da\"],[0.4,\"#fde0ef\"],[0.5,\"#f7f7f7\"],[0.6,\"#e6f5d0\"],[0.7,\"#b8e186\"],[0.8,\"#7fbc41\"],[0.9,\"#4d9221\"],[1,\"#276419\"]],\"sequential\":[[0.0,\"#0d0887\"],[0.1111111111111111,\"#46039f\"],[0.2222222222222222,\"#7201a8\"],[0.3333333333333333,\"#9c179e\"],[0.4444444444444444,\"#bd3786\"],[0.5555555555555556,\"#d8576b\"],[0.6666666666666666,\"#ed7953\"],[0.7777777777777778,\"#fb9f3a\"],[0.8888888888888888,\"#fdca26\"],[1.0,\"#f0f921\"]],\"sequentialminus\":[[0.0,\"#0d0887\"],[0.1111111111111111,\"#46039f\"],[0.2222222222222222,\"#7201a8\"],[0.3333333333333333,\"#9c179e\"],[0.4444444444444444,\"#bd3786\"],[0.5555555555555556,\"#d8576b\"],[0.6666666666666666,\"#ed7953\"],[0.7777777777777778,\"#fb9f3a\"],[0.8888888888888888,\"#fdca26\"],[1.0,\"#f0f921\"]]},\"colorway\":[\"#636efa\",\"#EF553B\",\"#00cc96\",\"#ab63fa\",\"#FFA15A\",\"#19d3f3\",\"#FF6692\",\"#B6E880\",\"#FF97FF\",\"#FECB52\"],\"font\":{\"color\":\"#2a3f5f\"},\"geo\":{\"bgcolor\":\"white\",\"lakecolor\":\"white\",\"landcolor\":\"white\",\"showlakes\":true,\"showland\":true,\"subunitcolor\":\"#C8D4E3\"},\"hoverlabel\":{\"align\":\"left\"},\"hovermode\":\"closest\",\"mapbox\":{\"style\":\"light\"},\"paper_bgcolor\":\"white\",\"plot_bgcolor\":\"white\",\"polar\":{\"angularaxis\":{\"gridcolor\":\"#EBF0F8\",\"linecolor\":\"#EBF0F8\",\"ticks\":\"\"},\"bgcolor\":\"white\",\"radialaxis\":{\"gridcolor\":\"#EBF0F8\",\"linecolor\":\"#EBF0F8\",\"ticks\":\"\"}},\"scene\":{\"xaxis\":{\"backgroundcolor\":\"white\",\"gridcolor\":\"#DFE8F3\",\"gridwidth\":2,\"linecolor\":\"#EBF0F8\",\"showbackground\":true,\"ticks\":\"\",\"zerolinecolor\":\"#EBF0F8\"},\"yaxis\":{\"backgroundcolor\":\"white\",\"gridcolor\":\"#DFE8F3\",\"gridwidth\":2,\"linecolor\":\"#EBF0F8\",\"showbackground\":true,\"ticks\":\"\",\"zerolinecolor\":\"#EBF0F8\"},\"zaxis\":{\"backgroundcolor\":\"white\",\"gridcolor\":\"#DFE8F3\",\"gridwidth\":2,\"linecolor\":\"#EBF0F8\",\"showbackground\":true,\"ticks\":\"\",\"zerolinecolor\":\"#EBF0F8\"}},\"shapedefaults\":{\"line\":{\"color\":\"#2a3f5f\"}},\"ternary\":{\"aaxis\":{\"gridcolor\":\"#DFE8F3\",\"linecolor\":\"#A2B1C6\",\"ticks\":\"\"},\"baxis\":{\"gridcolor\":\"#DFE8F3\",\"linecolor\":\"#A2B1C6\",\"ticks\":\"\"},\"bgcolor\":\"white\",\"caxis\":{\"gridcolor\":\"#DFE8F3\",\"linecolor\":\"#A2B1C6\",\"ticks\":\"\"}},\"title\":{\"x\":0.05},\"xaxis\":{\"automargin\":true,\"gridcolor\":\"#EBF0F8\",\"linecolor\":\"#EBF0F8\",\"ticks\":\"\",\"title\":{\"standoff\":15},\"zerolinecolor\":\"#EBF0F8\",\"zerolinewidth\":2},\"yaxis\":{\"automargin\":true,\"gridcolor\":\"#EBF0F8\",\"linecolor\":\"#EBF0F8\",\"ticks\":\"\",\"title\":{\"standoff\":15},\"zerolinecolor\":\"#EBF0F8\",\"zerolinewidth\":2}}},\"title\":{\"text\":\"Testing_labels\",\"x\":0.5,\"xanchor\":\"center\",\"y\":0.9,\"yanchor\":\"top\"},\"xaxis\":{\"anchor\":\"y\",\"domain\":[0.0,0.45]},\"yaxis\":{\"anchor\":\"x\",\"domain\":[0.0,1.0]}},                        {\"responsive\": true}                    ).then(function(){\n",
              "                            \n",
              "var gd = document.getElementById('e2ac5ca5-bd7a-42de-8cf7-348adf1303d6');\n",
              "var x = new MutationObserver(function (mutations, observer) {{\n",
              "        var display = window.getComputedStyle(gd).display;\n",
              "        if (!display || display === 'none') {{\n",
              "            console.log([gd, 'removed!']);\n",
              "            Plotly.purge(gd);\n",
              "            observer.disconnect();\n",
              "        }}\n",
              "}});\n",
              "\n",
              "// Listen for the removal of the full notebook cells\n",
              "var notebookContainer = gd.closest('#notebook-container');\n",
              "if (notebookContainer) {{\n",
              "    x.observe(notebookContainer, {childList: true});\n",
              "}}\n",
              "\n",
              "// Listen for the clearing of the current output cell\n",
              "var outputEl = gd.closest('.output');\n",
              "if (outputEl) {{\n",
              "    x.observe(outputEl, {childList: true});\n",
              "}}\n",
              "\n",
              "                        })                };                            </script>        </div>\n",
              "</body>\n",
              "</html>"
            ]
          },
          "metadata": {}
        }
      ],
      "source": [
        "cat_summary_with_graph(labels_df, 'Training_labels')\n",
        "cat_summary_with_graph(labels_df, 'Testing_labels')"
      ]
    },
    {
      "cell_type": "markdown",
      "id": "05173b61",
      "metadata": {
        "id": "05173b61"
      },
      "source": [
        "**Now we can see the data is perfectly balance**"
      ]
    },
    {
      "cell_type": "markdown",
      "id": "c26b6c87",
      "metadata": {
        "id": "c26b6c87"
      },
      "source": [
        "<a id=\"3\"></a>\n",
        "## <b>3 <span style='color:#B21010'>||</span> Vectorization</b>"
      ]
    },
    {
      "cell_type": "markdown",
      "id": "d1507721",
      "metadata": {
        "id": "d1507721"
      },
      "source": [
        "**Encoding the integer sequences into a binary matrix basically one hot encoding**"
      ]
    },
    {
      "cell_type": "code",
      "execution_count": 20,
      "id": "09be394f",
      "metadata": {
        "id": "09be394f"
      },
      "outputs": [],
      "source": [
        "def vectorize_sequences(sequences, dimension=10000):\n",
        "    \n",
        "    results = np.zeros((len(sequences), dimension))\n",
        "    for i, sequence in enumerate(sequences):\n",
        "        results[i, sequence] = 1.\n",
        "    return results"
      ]
    },
    {
      "cell_type": "code",
      "execution_count": 23,
      "id": "3d07177a",
      "metadata": {
        "colab": {
          "base_uri": "https://localhost:8080/"
        },
        "id": "3d07177a",
        "outputId": "65d71f29-3185-4cc5-b2ba-862d5d707123"
      },
      "outputs": [
        {
          "output_type": "stream",
          "name": "stdout",
          "text": [
            "Shape of x_train dataset is (25000, 10000)\n",
            "____________________________________________________________________________________________________\n",
            "\n",
            "Shape of x_train dataset is (25000, 10000)\n"
          ]
        }
      ],
      "source": [
        "x_train = vectorize_sequences(train_data)\n",
        "x_test = vectorize_sequences(test_data)\n",
        "\n",
        "shape_of_ds(x_train,\"x_train\")\n",
        "sep()\n",
        "shape_of_ds(x_train,\"x_train\")"
      ]
    },
    {
      "cell_type": "markdown",
      "id": "84d9f23b",
      "metadata": {
        "id": "84d9f23b"
      },
      "source": [
        "**Now we have vectorized our data and it is basically a binary matrix**"
      ]
    },
    {
      "cell_type": "code",
      "execution_count": 24,
      "id": "3c57ee91",
      "metadata": {
        "colab": {
          "base_uri": "https://localhost:8080/"
        },
        "id": "3c57ee91",
        "outputId": "96cea05f-d991-4268-b6ff-04a0835cf28c"
      },
      "outputs": [
        {
          "output_type": "execute_result",
          "data": {
            "text/plain": [
              "array([0., 1., 1., ..., 0., 0., 0.])"
            ]
          },
          "metadata": {},
          "execution_count": 24
        }
      ],
      "source": [
        "x_train[0]"
      ]
    },
    {
      "cell_type": "markdown",
      "id": "5de8c0c0",
      "metadata": {
        "id": "5de8c0c0"
      },
      "source": [
        "**Lets vectorize the labels too**"
      ]
    },
    {
      "cell_type": "code",
      "execution_count": 27,
      "id": "e3566a92",
      "metadata": {
        "colab": {
          "base_uri": "https://localhost:8080/"
        },
        "id": "e3566a92",
        "outputId": "3710ce0a-59f7-4938-c1b4-a65ffdda263d"
      },
      "outputs": [
        {
          "output_type": "stream",
          "name": "stdout",
          "text": [
            "Shape of y_train dataset is (25000,)\n",
            "____________________________________________________________________________________________________\n",
            "\n",
            "Shape of y_test dataset is (25000,)\n"
          ]
        }
      ],
      "source": [
        "y_train = np.asarray(train_labels).astype('float32')\n",
        "y_test = np.asarray(test_labels).astype('float32')\n",
        "shape_of_ds(y_train,\"y_train\")\n",
        "sep()\n",
        "shape_of_ds(y_test,\"y_test\")"
      ]
    },
    {
      "cell_type": "markdown",
      "id": "384fef45",
      "metadata": {
        "id": "384fef45"
      },
      "source": [
        "<a id=\"4\"></a>\n",
        "## <b>4 <span style='color:#B21010'>||</span> Split the data into train, valid and test</b>"
      ]
    },
    {
      "cell_type": "markdown",
      "id": "49f3a797",
      "metadata": {
        "id": "49f3a797"
      },
      "source": [
        "**here we basically will assign 5k data points from train dataset to valid dataset**"
      ]
    },
    {
      "cell_type": "code",
      "execution_count": 29,
      "id": "524d8eb0",
      "metadata": {
        "colab": {
          "base_uri": "https://localhost:8080/"
        },
        "id": "524d8eb0",
        "outputId": "2c66c882-d548-4f89-8068-f13f6b545978"
      },
      "outputs": [
        {
          "output_type": "stream",
          "name": "stdout",
          "text": [
            "Shape of x_val dataset is (5000, 10000)\n",
            "____________________________________________________________________________________________________\n",
            "\n",
            "Shape of partial_x_train  dataset is (20000, 10000)\n",
            "____________________________________________________________________________________________________\n",
            "\n",
            "Shape of y_val dataset is (5000,)\n",
            "____________________________________________________________________________________________________\n",
            "\n",
            "Shape of partial_y_train dataset is (20000,)\n",
            "____________________________________________________________________________________________________\n",
            "\n"
          ]
        }
      ],
      "source": [
        "x_val = x_train[:5000]\n",
        "partial_x_train = x_train[5000:]\n",
        "y_val = y_train[:5000]\n",
        "partial_y_train = y_train[5000:]\n",
        "\n",
        "shape_of_ds(x_val,\"x_val\")\n",
        "sep()\n",
        "\n",
        "shape_of_ds(partial_x_train ,\"partial_x_train \")\n",
        "sep()\n",
        "\n",
        "shape_of_ds(y_val,\"y_val\")\n",
        "sep()\n",
        "\n",
        "shape_of_ds(partial_y_train,\"partial_y_train\")\n",
        "sep()\n"
      ]
    },
    {
      "cell_type": "markdown",
      "id": "eebef8c8",
      "metadata": {
        "id": "eebef8c8"
      },
      "source": [
        "<a id=\"5\"></a>\n",
        "## <b>5 <span style='color:#B21010'>||</span> Build the CNN model architecture</b>"
      ]
    },
    {
      "cell_type": "code",
      "execution_count": 30,
      "id": "2c954deb",
      "metadata": {
        "id": "2c954deb"
      },
      "outputs": [],
      "source": [
        "model = models.Sequential()\n",
        "\n",
        "model.add(layers.Dense(16, kernel_regularizer=regularizers.l1(0.001), activation='relu', input_shape=(10000,)))\n",
        "model.add(layers.Dropout(0.5))\n",
        "model.add(layers.Dense(16, kernel_regularizer=regularizers.l1(0.001),activation='relu'))\n",
        "model.add(layers.Dropout(0.5))\n",
        "model.add(layers.Dense(1, activation='sigmoid'))"
      ]
    },
    {
      "cell_type": "code",
      "execution_count": 31,
      "id": "e6c0d899",
      "metadata": {
        "colab": {
          "base_uri": "https://localhost:8080/"
        },
        "id": "e6c0d899",
        "outputId": "f134a4cc-0eb7-49d0-bd6f-c42d7a8661d5"
      },
      "outputs": [
        {
          "output_type": "stream",
          "name": "stdout",
          "text": [
            "Model: \"sequential\"\n",
            "_________________________________________________________________\n",
            " Layer (type)                Output Shape              Param #   \n",
            "=================================================================\n",
            " dense (Dense)               (None, 16)                160016    \n",
            "                                                                 \n",
            " dropout (Dropout)           (None, 16)                0         \n",
            "                                                                 \n",
            " dense_1 (Dense)             (None, 16)                272       \n",
            "                                                                 \n",
            " dropout_1 (Dropout)         (None, 16)                0         \n",
            "                                                                 \n",
            " dense_2 (Dense)             (None, 1)                 17        \n",
            "                                                                 \n",
            "=================================================================\n",
            "Total params: 160,305\n",
            "Trainable params: 160,305\n",
            "Non-trainable params: 0\n",
            "_________________________________________________________________\n"
          ]
        }
      ],
      "source": [
        "model.summary()"
      ]
    },
    {
      "cell_type": "markdown",
      "id": "8980ed63",
      "metadata": {
        "id": "8980ed63"
      },
      "source": [
        "<a id=\"6\"></a>\n",
        "## <b>6 <span style='color:#B21010'>||</span>Define Early Stop, Compile and Train the model</b>"
      ]
    },
    {
      "cell_type": "code",
      "execution_count": 32,
      "id": "55b3b8e0",
      "metadata": {
        "scrolled": false,
        "id": "55b3b8e0",
        "outputId": "7292fc55-5ff8-401c-8303-089902d88dfb",
        "colab": {
          "base_uri": "https://localhost:8080/"
        }
      },
      "outputs": [
        {
          "output_type": "stream",
          "name": "stdout",
          "text": [
            "Epoch 1/1000\n",
            "39/40 [============================>.] - ETA: 0s - loss: 1.3110 - acc: 0.5879\n",
            "Epoch 1: val_loss improved from inf to 0.77174, saving model to model_weights.h5\n",
            "40/40 [==============================] - 3s 50ms/step - loss: 1.3101 - acc: 0.5883 - val_loss: 0.7717 - val_acc: 0.8146\n",
            "Epoch 2/1000\n",
            "39/40 [============================>.] - ETA: 0s - loss: 0.7372 - acc: 0.7013\n",
            "Epoch 2: val_loss improved from 0.77174 to 0.64589, saving model to model_weights.h5\n",
            "40/40 [==============================] - 1s 37ms/step - loss: 0.7371 - acc: 0.7014 - val_loss: 0.6459 - val_acc: 0.8316\n",
            "Epoch 3/1000\n",
            "39/40 [============================>.] - ETA: 0s - loss: 0.6742 - acc: 0.7575\n",
            "Epoch 3: val_loss improved from 0.64589 to 0.59142, saving model to model_weights.h5\n",
            "40/40 [==============================] - 2s 61ms/step - loss: 0.6742 - acc: 0.7577 - val_loss: 0.5914 - val_acc: 0.8476\n",
            "Epoch 4/1000\n",
            "40/40 [==============================] - ETA: 0s - loss: 0.6400 - acc: 0.7951\n",
            "Epoch 4: val_loss improved from 0.59142 to 0.56735, saving model to model_weights.h5\n",
            "40/40 [==============================] - 1s 34ms/step - loss: 0.6400 - acc: 0.7951 - val_loss: 0.5673 - val_acc: 0.8524\n",
            "Epoch 5/1000\n",
            "39/40 [============================>.] - ETA: 0s - loss: 0.6274 - acc: 0.8156\n",
            "Epoch 5: val_loss improved from 0.56735 to 0.55388, saving model to model_weights.h5\n",
            "40/40 [==============================] - 1s 35ms/step - loss: 0.6273 - acc: 0.8156 - val_loss: 0.5539 - val_acc: 0.8558\n",
            "Epoch 6/1000\n",
            "38/40 [===========================>..] - ETA: 0s - loss: 0.6184 - acc: 0.8277\n",
            "Epoch 6: val_loss improved from 0.55388 to 0.54936, saving model to model_weights.h5\n",
            "40/40 [==============================] - 1s 37ms/step - loss: 0.6182 - acc: 0.8281 - val_loss: 0.5494 - val_acc: 0.8596\n",
            "Epoch 7/1000\n",
            "38/40 [===========================>..] - ETA: 0s - loss: 0.6114 - acc: 0.8349\n",
            "Epoch 7: val_loss did not improve from 0.54936\n",
            "40/40 [==============================] - 1s 32ms/step - loss: 0.6116 - acc: 0.8348 - val_loss: 0.5556 - val_acc: 0.8592\n",
            "Epoch 8/1000\n",
            "40/40 [==============================] - ETA: 0s - loss: 0.6135 - acc: 0.8371\n",
            "Epoch 8: val_loss improved from 0.54936 to 0.54459, saving model to model_weights.h5\n",
            "40/40 [==============================] - 1s 33ms/step - loss: 0.6135 - acc: 0.8371 - val_loss: 0.5446 - val_acc: 0.8664\n",
            "Epoch 9/1000\n",
            "39/40 [============================>.] - ETA: 0s - loss: 0.6081 - acc: 0.8407\n",
            "Epoch 9: val_loss did not improve from 0.54459\n",
            "40/40 [==============================] - 1s 33ms/step - loss: 0.6080 - acc: 0.8407 - val_loss: 0.5469 - val_acc: 0.8648\n",
            "Epoch 10/1000\n",
            "40/40 [==============================] - ETA: 0s - loss: 0.6182 - acc: 0.8449\n",
            "Epoch 10: val_loss did not improve from 0.54459\n",
            "40/40 [==============================] - 1s 32ms/step - loss: 0.6182 - acc: 0.8449 - val_loss: 0.5629 - val_acc: 0.8638\n",
            "Epoch 11/1000\n",
            "39/40 [============================>.] - ETA: 0s - loss: 0.6168 - acc: 0.8446\n",
            "Epoch 11: val_loss did not improve from 0.54459\n",
            "40/40 [==============================] - 2s 38ms/step - loss: 0.6168 - acc: 0.8447 - val_loss: 0.5608 - val_acc: 0.8658\n",
            "Epoch 12/1000\n",
            "40/40 [==============================] - ETA: 0s - loss: 0.6196 - acc: 0.8496\n",
            "Epoch 12: val_loss did not improve from 0.54459\n",
            "40/40 [==============================] - 2s 48ms/step - loss: 0.6196 - acc: 0.8496 - val_loss: 0.5697 - val_acc: 0.8620\n",
            "Epoch 13/1000\n",
            "38/40 [===========================>..] - ETA: 0s - loss: 0.6125 - acc: 0.8492\n",
            "Epoch 13: val_loss did not improve from 0.54459\n",
            "40/40 [==============================] - 1s 33ms/step - loss: 0.6125 - acc: 0.8487 - val_loss: 0.5529 - val_acc: 0.8734\n",
            "Epoch 14/1000\n",
            "40/40 [==============================] - ETA: 0s - loss: 0.6106 - acc: 0.8508\n",
            "Epoch 14: val_loss did not improve from 0.54459\n",
            "40/40 [==============================] - 1s 31ms/step - loss: 0.6106 - acc: 0.8508 - val_loss: 0.5551 - val_acc: 0.8708\n",
            "Epoch 15/1000\n",
            "39/40 [============================>.] - ETA: 0s - loss: 0.6144 - acc: 0.8534\n",
            "Epoch 15: val_loss did not improve from 0.54459\n",
            "40/40 [==============================] - 1s 31ms/step - loss: 0.6144 - acc: 0.8533 - val_loss: 0.5628 - val_acc: 0.8700\n",
            "Epoch 16/1000\n",
            "40/40 [==============================] - ETA: 0s - loss: 0.6033 - acc: 0.8559\n",
            "Epoch 16: val_loss did not improve from 0.54459\n",
            "40/40 [==============================] - 1s 31ms/step - loss: 0.6033 - acc: 0.8559 - val_loss: 0.5567 - val_acc: 0.8704\n",
            "Epoch 17/1000\n",
            "40/40 [==============================] - ETA: 0s - loss: 0.6062 - acc: 0.8576\n",
            "Epoch 17: val_loss did not improve from 0.54459\n",
            "40/40 [==============================] - 1s 32ms/step - loss: 0.6062 - acc: 0.8576 - val_loss: 0.5583 - val_acc: 0.8724\n",
            "Epoch 18/1000\n",
            "39/40 [============================>.] - ETA: 0s - loss: 0.6045 - acc: 0.8587\n",
            "Epoch 18: val_loss did not improve from 0.54459\n",
            "40/40 [==============================] - 1s 32ms/step - loss: 0.6043 - acc: 0.8588 - val_loss: 0.5659 - val_acc: 0.8716\n",
            "Epoch 18: early stopping\n"
          ]
        }
      ],
      "source": [
        "NumEpochs = 1000\n",
        "BatchSize = 512\n",
        "\n",
        "early_stop = EarlyStopping(monitor='val_loss', \n",
        "                           patience=10,\n",
        "                           verbose=1)\n",
        "\n",
        "checkpoint = ModelCheckpoint('model_weights.h5', \n",
        "                             monitor='val_loss', \n",
        "                             save_best_only=True, \n",
        "                             save_weights_only=True, \n",
        "                             mode='min', \n",
        "                             verbose=1)\n",
        "\n",
        "model.compile(optimizer='adam', \n",
        "              loss='binary_crossentropy', \n",
        "              metrics=['acc'])\n",
        "\n",
        "history = model.fit(partial_x_train, \n",
        "                    partial_y_train, \n",
        "                    epochs=NumEpochs, \n",
        "                    batch_size=BatchSize, \n",
        "                    validation_data=(x_val, y_val),\n",
        "                    callbacks = [early_stop, checkpoint])"
      ]
    },
    {
      "cell_type": "markdown",
      "id": "c40e5c3d",
      "metadata": {
        "id": "c40e5c3d"
      },
      "source": [
        "<a id=\"7\"></a>\n",
        "## <b>7 <span style='color:#B21010'>||</span>Evaluate the model</b>"
      ]
    },
    {
      "cell_type": "code",
      "execution_count": 33,
      "id": "afb8771d",
      "metadata": {
        "id": "afb8771d",
        "outputId": "fb2ce492-0e47-4203-95b6-50e9db8eab31",
        "colab": {
          "base_uri": "https://localhost:8080/"
        }
      },
      "outputs": [
        {
          "output_type": "stream",
          "name": "stdout",
          "text": [
            "782/782 [==============================] - 2s 2ms/step - loss: 0.5638 - acc: 0.8726\n",
            "____________________________________________________________________________________________________\n",
            "Test Loss and Accuracy\n",
            "results  [0.5638095140457153, 0.8726400136947632]\n"
          ]
        },
        {
          "output_type": "execute_result",
          "data": {
            "text/plain": [
              "dict_keys(['loss', 'acc', 'val_loss', 'val_acc'])"
            ]
          },
          "metadata": {},
          "execution_count": 33
        }
      ],
      "source": [
        "results = model.evaluate(x_test, y_test)\n",
        "print(\"_\"*100)\n",
        "print(\"Test Loss and Accuracy\")\n",
        "print(\"results \", results)\n",
        "history_dict = history.history\n",
        "history_dict.keys()"
      ]
    },
    {
      "cell_type": "markdown",
      "id": "3cc6941d",
      "metadata": {
        "id": "3cc6941d"
      },
      "source": [
        "<a id=\"8\"></a>\n",
        "## <b>8 <span style='color:#B21010'>||</span>Plot acc and Loss curve</b>"
      ]
    },
    {
      "cell_type": "code",
      "execution_count": 34,
      "id": "b7762c43",
      "metadata": {
        "id": "b7762c43"
      },
      "outputs": [],
      "source": [
        "def plot_training(hist):\n",
        "    '''\n",
        "    This function take training model and plot history of accuracy and losses with the best epoch in both of them.\n",
        "    '''\n",
        "\n",
        "    # Define needed variables\n",
        "    tr_acc = hist.history['acc']\n",
        "    tr_loss = hist.history['loss']\n",
        "    val_acc = hist.history['val_acc']\n",
        "    val_loss = hist.history['val_loss']\n",
        "    index_loss = np.argmin(val_loss)\n",
        "    val_lowest = val_loss[index_loss]\n",
        "    index_acc = np.argmax(val_acc)\n",
        "    acc_highest = val_acc[index_acc]\n",
        "    Epochs = [i+1 for i in range(len(tr_acc))]\n",
        "    loss_label = f'best epoch= {str(index_loss + 1)}'\n",
        "    acc_label = f'best epoch= {str(index_acc + 1)}'\n",
        "\n",
        "    # Plot training history\n",
        "    plt.figure(figsize= (20, 8))\n",
        "    plt.style.use('fivethirtyeight')\n",
        "\n",
        "    plt.subplot(1, 2, 1)\n",
        "    plt.plot(Epochs, tr_loss, 'r', label= 'Training loss')\n",
        "    plt.plot(Epochs, val_loss, 'g', label= 'Validation loss')\n",
        "    plt.scatter(index_loss + 1, val_lowest, s= 150, c= 'blue', label= loss_label)\n",
        "    plt.title('Training and Validation Loss')\n",
        "    plt.xlabel('Epochs')\n",
        "    plt.ylabel('Loss')\n",
        "    plt.legend()\n",
        "\n",
        "    plt.subplot(1, 2, 2)\n",
        "    plt.plot(Epochs, tr_acc, 'r', label= 'Training Accuracy')\n",
        "    plt.plot(Epochs, val_acc, 'g', label= 'Validation Accuracy')\n",
        "    plt.scatter(index_acc + 1 , acc_highest, s= 150, c= 'blue', label= acc_label)\n",
        "    plt.title('Training and Validation Accuracy')\n",
        "    plt.xlabel('Epochs')\n",
        "    plt.ylabel('Accuracy')\n",
        "    plt.legend()\n",
        "\n",
        "    plt.tight_layout\n",
        "    plt.show()"
      ]
    },
    {
      "cell_type": "code",
      "execution_count": null,
      "id": "5d5dcd73",
      "metadata": {
        "id": "5d5dcd73",
        "outputId": "1bb18261-8247-41d7-ea21-e459eb7ff761"
      },
      "outputs": [
        {
          "data": {
            "image/png": "[encoded data removed]",
            "text/plain": [
              "<Figure size 1440x576 with 2 Axes>"
            ]
          },
          "metadata": {
            "needs_background": "light"
          },
          "output_type": "display_data"
        }
      ],
      "source": [
        "plot_training(history)"
      ]
    },
    {
      "cell_type": "markdown",
      "id": "eba6629e",
      "metadata": {
        "id": "eba6629e"
      },
      "source": [
        "<a id=\"9\"></a>\n",
        "## <b>9 <span style='color:#B21010'>||</span>Plot Confussion Matrix</b>"
      ]
    },
    {
      "cell_type": "code",
      "execution_count": 35,
      "id": "db97ae51",
      "metadata": {
        "id": "db97ae51",
        "colab": {
          "base_uri": "https://localhost:8080/"
        },
        "outputId": "d8070b85-c678-483d-e441-4cc64108bb77"
      },
      "outputs": [
        {
          "output_type": "stream",
          "name": "stdout",
          "text": [
            "782/782 [==============================] - 2s 2ms/step\n"
          ]
        }
      ],
      "source": [
        "y_pred = model.predict(x_test)\n",
        "\n",
        "y_pred_labels = []\n",
        "\n",
        "y_true_labels = y_test"
      ]
    },
    {
      "cell_type": "code",
      "execution_count": 36,
      "id": "6a49214d",
      "metadata": {
        "id": "6a49214d"
      },
      "outputs": [],
      "source": [
        "threshold = 0.5\n",
        "for pred in y_pred:\n",
        "    if pred >= 0.5:\n",
        "        y_pred_labels.append(1)\n",
        "    else:\n",
        "        y_pred_labels.append(0)"
      ]
    },
    {
      "cell_type": "code",
      "execution_count": 37,
      "id": "f68e7853",
      "metadata": {
        "id": "f68e7853",
        "outputId": "dc914de6-ee77-4dd9-faac-eabf58c5461a",
        "colab": {
          "base_uri": "https://localhost:8080/"
        }
      },
      "outputs": [
        {
          "output_type": "execute_result",
          "data": {
            "text/plain": [
              "[0, 1, 1, 1, 1]"
            ]
          },
          "metadata": {},
          "execution_count": 37
        }
      ],
      "source": [
        "y_pred_labels[:5]"
      ]
    },
    {
      "cell_type": "code",
      "execution_count": 38,
      "id": "156667e6",
      "metadata": {
        "id": "156667e6",
        "outputId": "43c26b18-6510-4389-c9eb-8c98deba3b19",
        "colab": {
          "base_uri": "https://localhost:8080/"
        }
      },
      "outputs": [
        {
          "output_type": "execute_result",
          "data": {
            "text/plain": [
              "array([0., 1., 1., 0., 1.], dtype=float32)"
            ]
          },
          "metadata": {},
          "execution_count": 38
        }
      ],
      "source": [
        "y_true_labels[:5]"
      ]
    },
    {
      "cell_type": "code",
      "execution_count": 39,
      "id": "8ffc93b3",
      "metadata": {
        "id": "8ffc93b3",
        "outputId": "9e39577b-8769-4b00-e45b-8ded3b79d394",
        "colab": {
          "base_uri": "https://localhost:8080/",
          "height": 718
        }
      },
      "outputs": [
        {
          "output_type": "display_data",
          "data": {
            "text/plain": [
              "<Figure size 1000x800 with 2 Axes>"
            ],
            "image/png": "[encoded data removed]"
          },
          "metadata": {}
        }
      ],
      "source": [
        "class_names = ['negative', 'postive']\n",
        "\n",
        "confusion_mtx = confusion_matrix(y_true_labels, y_pred_labels)\n",
        "\n",
        "plt.figure(figsize=(10,8))\n",
        "sns.heatmap(confusion_mtx, cmap=\"Blues\", annot=True, fmt=\"d\", xticklabels=class_names, yticklabels=class_names)\n",
        "plt.title(\"Confusion Matrix\")\n",
        "plt.xlabel(\"Predicted Label\")\n",
        "plt.ylabel(\"True Label\")\n",
        "plt.show()"
      ]
    },
    {
      "cell_type": "markdown",
      "id": "dcc38ea0",
      "metadata": {
        "id": "dcc38ea0"
      },
      "source": [
        "<a id=\"10\"></a>\n",
        "## <b>10 <span style='color:#B21010'>||</span>Classification Report</b>"
      ]
    },
    {
      "cell_type": "code",
      "execution_count": 40,
      "id": "7d1c217d",
      "metadata": {
        "id": "7d1c217d",
        "outputId": "37c206ef-b729-4aaf-94e5-ece365845579",
        "colab": {
          "base_uri": "https://localhost:8080/"
        }
      },
      "outputs": [
        {
          "output_type": "stream",
          "name": "stdout",
          "text": [
            "              precision    recall  f1-score   support\n",
            "\n",
            "    negative       0.86      0.89      0.87     12500\n",
            "     postive       0.88      0.86      0.87     12500\n",
            "\n",
            "    accuracy                           0.87     25000\n",
            "   macro avg       0.87      0.87      0.87     25000\n",
            "weighted avg       0.87      0.87      0.87     25000\n",
            "\n"
          ]
        }
      ],
      "source": [
        "print(classification_report(y_true_labels, y_pred_labels, target_names= class_names))"
      ]
    }
  ],
  "metadata": {
    "kernelspec": {
      "display_name": "Python 3 (ipykernel)",
      "language": "python",
      "name": "python3"
    },
    "language_info": {
      "codemirror_mode": {
        "name": "ipython",
        "version": 3
      },
      "file_extension": ".py",
      "mimetype": "text/x-python",
      "name": "python",
      "nbconvert_exporter": "python",
      "pygments_lexer": "ipython3",
      "version": "3.9.7"
    },
    "colab": {
      "provenance": []
    }
  },
  "nbformat": 4,
  "nbformat_minor": 5
}